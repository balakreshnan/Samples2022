{
  "cells": [
    {
      "cell_type": "markdown",
      "metadata": {},
      "source": [
        "# Converting COCO annotation into JSON Line format\n",
        "\n",
        "Copyright (c) Microsoft Corporation. All rights reserved.\n",
        "\n",
        "Licensed under the MIT License.\n",
        "\n",
        "version 0.2\n",
        "\n",
        "## Description\n",
        "\n",
        "- This sample notebook will convert COCO annotation file into JSON Line format, which can be registered as an Azure Machine Learning (AML) Labeled Dataset.\n",
        "\n",
        "## Setup\n",
        "- None\n",
        "  \n",
        "## Usage\n",
        "\n",
        "- Specify all input parameters in the first cell according to needs and run through all the cells.\n",
        "\n",
        "## Parameters\n",
        "\n",
        "| Name | Description | Example |\n",
        "| --- | --- | --- |\n",
        "| task_type | The type of annotation:<br> Single label: 'IMAGE_CLASSIFICATION'<br> Multi-Label: 'IMAGE_MULTI_LABEL_CLASSIFICATION'<br>  BoundingBox: 'OBJECT_DETECTION'<br> Polygon: 'IMAGE_INSTANCE_SEGMENTATION' | 'IMAGE_INSTANCE_SEGMENTATION' |\n",
        "| input_coco_file_path | The full path name of COCO annotation file | 'C:/Sample/Ploygon_COCO.json' |\n",
        "| output_dir | The name of output sub-directory | 'JsonLines' |\n"
      ]
    },
    {
      "cell_type": "code",
      "execution_count": null,
      "metadata": {
        "collapsed": true,
        "gather": {
          "logged": 1630560732308
        },
        "jupyter": {
          "outputs_hidden": false,
          "source_hidden": false
        },
        "nteract": {
          "transient": {
            "deleting": false
          }
        }
      },
      "outputs": [],
      "source": [
        "import os\n",
        "\n",
        "task_type = 'OBJECT_DETECTION'\n",
        "\n",
        "input_coco_file_path = r\"C:\\Demo\\LabelImport\\MyCOCO.json\"\n",
        "\n",
        "output_dir = 'JsonLines'\n",
        "\n",
        "# default output file name\n",
        "json_line_file_name = 'LabeledData.jsonl'\n",
        "output_jsonl_file_path =  os.path.join(os.getcwd(), output_dir, json_line_file_name)\n",
        "if not os.path.exists(output_dir):\n",
        "    os.makedirs(output_dir)"
      ]
    },
    {
      "cell_type": "markdown",
      "metadata": {
        "nteract": {
          "transient": {
            "deleting": false
          }
        }
      },
      "source": [
        "## Define Converters"
      ]
    },
    {
      "cell_type": "code",
      "execution_count": null,
      "metadata": {
        "collapsed": true,
        "jupyter": {
          "outputs_hidden": false,
          "source_hidden": false
        },
        "nteract": {
          "transient": {
            "deleting": false
          }
        }
      },
      "outputs": [],
      "source": [
        "import json\n",
        "\n",
        "class CocoToJSONLinesConverter:\n",
        "    def convert(self): raise NotImplementedError\n",
        "\n",
        "class MultiClassConverter(CocoToJSONLinesConverter):\n",
        "    def __init__(self, coco_data):\n",
        "        self.json_lines_data = []\n",
        "        self.categories = {}\n",
        "        self.coco_data = coco_data\n",
        "        for i in range(0, len(coco_data['images'])):\n",
        "            self.json_lines_data.append({})\n",
        "        for i in range(0, len(coco_data['categories'])):\n",
        "            self.categories[coco_data['categories'][i]['id']] = coco_data['categories'][i]['name']\n",
        "\n",
        "    def _populate_image_url(self, json_line, coco_image_url):\n",
        "        json_line['image_url'] = coco_image_url\n",
        "        return json_line\n",
        "\n",
        "    def _populate_label(self, json_line, label_id):\n",
        "        json_line['label'] = self.categories[label_id]\n",
        "        return json_line\n",
        "\n",
        "    def _populate_label_confidence(self, json_line):\n",
        "        json_line['label_confidence'] = 1.0\n",
        "        return json_line\n",
        "\n",
        "    def convert(self):\n",
        "        for i in range(0, len(self.coco_data['images'])):\n",
        "            self.json_lines_data[i] = {}\n",
        "            self.json_lines_data[i] = self._populate_image_url(self.json_lines_data[i], self.coco_data['images'][i]['coco_url'])\n",
        "            self.json_lines_data[i] = self._populate_label(self.json_lines_data[i], self.coco_data['annotations'][i]['category_id'])\n",
        "            self.json_lines_data[i] = self._populate_label_confidence(self.json_lines_data[i])\n",
        "        return self.json_lines_data\n",
        "\n",
        "\n",
        "class MultiLabelConverter(CocoToJSONLinesConverter):\n",
        "    def __init__(self, coco_data):\n",
        "        self.json_lines_data = []\n",
        "        self.categories = {}\n",
        "        self.coco_data = coco_data\n",
        "        self.image_id_to_data_index = {}\n",
        "        for i in range(0, len(coco_data['images'])):\n",
        "            self.json_lines_data.append({})\n",
        "            self.json_lines_data[i]['image_url'] = \"\"\n",
        "            self.json_lines_data[i]['label'] = []\n",
        "            self.json_lines_data[i]['label_confidence'] = []\n",
        "        for i in range(0, len(coco_data['categories'])):\n",
        "            self.categories[coco_data['categories'][i]['id']] = coco_data['categories'][i]['name']\n",
        "\n",
        "    def _populate_image_url(self, index, coco_image):\n",
        "        self.json_lines_data[index]['image_url'] = coco_image['coco_url']\n",
        "        self.image_id_to_data_index[coco_image['id']] = index\n",
        "\n",
        "    def _populate_label(self, annotation):\n",
        "        index = self.image_id_to_data_index[annotation['image_id']]\n",
        "        self.json_lines_data[index]['label'].append(self.categories[annotation['category_id']])\n",
        "        self._populate_label_confidence(index)\n",
        "\n",
        "    def _populate_label_confidence(self, index):\n",
        "        self.json_lines_data[index]['label_confidence'].append(1.0)\n",
        "\n",
        "    def convert(self):\n",
        "        for i in range(0, len(self.coco_data['images'])):\n",
        "            self._populate_image_url(i, self.coco_data['images'][i])\n",
        "        for i in range(0, len(self.coco_data['annotations'])):\n",
        "            self._populate_label(self.coco_data['annotations'][i])\n",
        "        return self.json_lines_data\n",
        "\n",
        "\n",
        "class BoundingBoxConverter(CocoToJSONLinesConverter):\n",
        "    def __init__(self, coco_data):\n",
        "        self.json_lines_data = []\n",
        "        self.categories = {}\n",
        "        self.coco_data = coco_data\n",
        "        self.image_id_to_data_index = {}\n",
        "        for i in range(0, len(coco_data['images'])):\n",
        "            self.json_lines_data.append({})\n",
        "            self.json_lines_data[i]['image_url'] = \"\"\n",
        "            self.json_lines_data[i]['label'] = []\n",
        "            self.json_lines_data[i]['label_confidence'] = []\n",
        "        for i in range(0, len(coco_data['categories'])):\n",
        "            self.categories[coco_data['categories'][i]['id']] = coco_data['categories'][i]['name']\n",
        "\n",
        "    def _populate_image_url(self, index, coco_image):\n",
        "        self.json_lines_data[index]['image_url'] = coco_image['coco_url']\n",
        "        self.image_id_to_data_index[coco_image['id']] = index\n",
        "\n",
        "    def _populate_bbox_in_label(self, label, annotation):\n",
        "        label['topX'] = annotation['bbox'][0]\n",
        "        label['topY'] = annotation['bbox'][1]\n",
        "        label['bottomX'] = annotation['bbox'][0] + annotation['bbox'][2]\n",
        "        label['bottomY'] = annotation['bbox'][1] + annotation['bbox'][3]\n",
        "\n",
        "    def _populate_label(self, annotation):\n",
        "        index = self.image_id_to_data_index[annotation['image_id']]\n",
        "        label = {'label': self.categories[annotation['category_id']]}\n",
        "        self._populate_bbox_in_label(label, annotation)\n",
        "        self.json_lines_data[index]['label'].append(label)\n",
        "        self._populate_label_confidence(index)\n",
        "\n",
        "    def _populate_label_confidence(self, index):\n",
        "        self.json_lines_data[index]['label_confidence'].append(1.0)\n",
        "\n",
        "    def convert(self):\n",
        "        for i in range(0, len(self.coco_data['images'])):\n",
        "            self._populate_image_url(i, self.coco_data['images'][i])\n",
        "        for i in range(0, len(self.coco_data['annotations'])):\n",
        "            self._populate_label(self.coco_data['annotations'][i])\n",
        "        return self.json_lines_data\n",
        "\n",
        "\n",
        "class PolygonConverter(CocoToJSONLinesConverter):\n",
        "    def __init__(self, coco_data):\n",
        "        self.json_lines_data = []\n",
        "        self.categories = {}\n",
        "        self.coco_data = coco_data\n",
        "        self.image_id_to_data_index = {}\n",
        "        for i in range(0, len(coco_data['images'])):\n",
        "            self.json_lines_data.append({})\n",
        "            self.json_lines_data[i]['image_url'] = \"\"\n",
        "            self.json_lines_data[i]['label'] = []\n",
        "            self.json_lines_data[i]['label_confidence'] = []\n",
        "        for i in range(0, len(coco_data['categories'])):\n",
        "            self.categories[coco_data['categories'][i]['id']] = coco_data['categories'][i]['name']\n",
        "\n",
        "    def _populate_image_url(self, index, coco_image):\n",
        "        self.json_lines_data[index]['image_url'] = coco_image['coco_url']\n",
        "        self.image_id_to_data_index[coco_image['id']] = index\n",
        "\n",
        "    def _populate_bbox_in_label(self, label, annotation):\n",
        "        top_x = annotation['bbox'][0]\n",
        "        top_y = annotation['bbox'][1]\n",
        "        bottom_x = annotation['bbox'][0] + annotation['bbox'][2]\n",
        "        bottom_y = annotation['bbox'][1] + annotation['bbox'][3]\n",
        "        label['bbox'] = [top_x, top_y, bottom_x, bottom_y]\n",
        "\n",
        "    def _populate_label(self, annotation):\n",
        "        index = self.image_id_to_data_index[annotation['image_id']]\n",
        "        label = {'label': self.categories[annotation['category_id']], 'isCrowd': False,\n",
        "                 'polygon': annotation['segmentation']}\n",
        "        self._populate_bbox_in_label(label, annotation)\n",
        "        self.json_lines_data[index]['label'].append(label)\n",
        "        self._populate_label_confidence(index)\n",
        "\n",
        "    def _populate_label_confidence(self, index):\n",
        "        self.json_lines_data[index]['label_confidence'].append(1.0)\n",
        "\n",
        "    def convert(self):\n",
        "        for i in range(0, len(self.coco_data['images'])):\n",
        "            self._populate_image_url(i, self.coco_data['images'][i])\n",
        "        for i in range(0, len(self.coco_data['annotations'])):\n",
        "            self._populate_label(self.coco_data['annotations'][i])\n",
        "        return self.json_lines_data\n"
      ]
    },
    {
      "cell_type": "markdown",
      "metadata": {},
      "source": [
        "## Convert COCO Annotation to JSON Line file"
      ]
    },
    {
      "cell_type": "code",
      "execution_count": null,
      "metadata": {},
      "outputs": [],
      "source": [
        "\n",
        "def read_coco_file(coco_file):\n",
        "    with open(coco_file) as f_in:\n",
        "        return json.load(f_in)\n",
        "\n",
        "def write_json_lines(converter, filename):\n",
        "    json_lines_data = converter.convert()\n",
        "    with open(filename, 'w') as outfile:\n",
        "        for json_line in json_lines_data:\n",
        "            json.dump(json_line, outfile, separators=(',', ':'))\n",
        "            outfile.write('\\n')\n",
        "\n",
        "print('AML Data Labeling Task type: {}'.format(task_type))\n",
        "print('Converting COCO annotation file \"{}\" into JSON Line file \"{}\"'.format(input_coco_file_path, output_jsonl_file_path))\n",
        "\n",
        "coco_data = read_coco_file(input_coco_file_path)\n",
        "\n",
        "if task_type == 'IMAGE_CLASSIFICATION':\n",
        "    converter = MultiClassConverter(coco_data)\n",
        "    write_json_lines(converter, output_jsonl_file_path)\n",
        "elif task_type == 'IMAGE_MULTI_LABEL_CLASSIFICATION':\n",
        "    converter = MultiLabelConverter(coco_data)\n",
        "    write_json_lines(converter, output_jsonl_file_path)\n",
        "elif task_type == 'OBJECT_DETECTION':\n",
        "    converter = BoundingBoxConverter(coco_data)\n",
        "    write_json_lines(converter, output_jsonl_file_path)\n",
        "elif task_type == 'IMAGE_INSTANCE_SEGMENTATION':\n",
        "    converter = PolygonConverter(coco_data)\n",
        "    write_json_lines(converter, output_jsonl_file_path)\n",
        "else:\n",
        "    print(\"ERROR: Invalid Task Type\")\n",
        "    pass\n",
        "\n",
        "print('Done.')"
      ]
    },
    {
      "cell_type": "markdown",
      "metadata": {},
      "source": [
        "## End of notebook"
      ]
    },
    {
      "cell_type": "markdown",
      "metadata": {},
      "source": []
    }
  ],
  "metadata": {
    "interpreter": {
      "hash": "62a5a7a49ad21bd9631a25bbabef05666b606ab2a71d5c985812dda29a1b1f1c"
    },
    "kernel_info": {
      "name": "python3-azureml"
    },
    "kernelspec": {
      "display_name": "Python 3.8.10 64-bit ('azure_py38': conda)",
      "name": "python3"
    },
    "language_info": {
      "codemirror_mode": {
        "name": "ipython",
        "version": 3
      },
      "file_extension": ".py",
      "mimetype": "text/x-python",
      "name": "python",
      "nbconvert_exporter": "python",
      "pygments_lexer": "ipython3",
      "version": "3.8.10"
    },
    "microsoft": {
      "host": {
        "AzureML": {
          "notebookHasBeenCompleted": true
        }
      }
    },
    "nteract": {
      "version": "nteract-front-end@1.0.0"
    }
  },
  "nbformat": 4,
  "nbformat_minor": 2
}
